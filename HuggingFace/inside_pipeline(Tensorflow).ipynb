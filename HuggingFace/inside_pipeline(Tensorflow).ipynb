{
 "cells": [
  {
   "cell_type": "code",
   "execution_count": 1,
   "metadata": {},
   "outputs": [],
   "source": [
    "from transformers import pipeline"
   ]
  },
  {
   "cell_type": "code",
   "execution_count": 2,
   "metadata": {},
   "outputs": [
    {
     "name": "stderr",
     "output_type": "stream",
     "text": [
      "No model was supplied, defaulted to distilbert-base-uncased-finetuned-sst-2-english and revision af0f99b (https://huggingface.co/distilbert-base-uncased-finetuned-sst-2-english).\n",
      "Using a pipeline without specifying a model name and revision in production is not recommended.\n"
     ]
    },
    {
     "data": {
      "text/plain": [
       "[{'label': 'POSITIVE', 'score': 0.9860089421272278},\n",
       " {'label': 'NEGATIVE', 'score': 0.9979550838470459}]"
      ]
     },
     "execution_count": 2,
     "metadata": {},
     "output_type": "execute_result"
    }
   ],
   "source": [
    "classifier = pipeline('sentiment-analysis')\n",
    "classifier([\n",
    "    \"I've been waiting for EmKa Academy course my whole life\",\n",
    "    \"I hate you brother...\"\n",
    "])"
   ]
  },
  {
   "cell_type": "markdown",
   "metadata": {},
   "source": [
    "## What happens inside pipeline function ?"
   ]
  },
  {
   "cell_type": "markdown",
   "metadata": {},
   "source": [
    "![All Stages](image-2.png)"
   ]
  },
  {
   "cell_type": "markdown",
   "metadata": {},
   "source": [
    "![Alt Stage 1](image.png)"
   ]
  },
  {
   "cell_type": "code",
   "execution_count": 3,
   "metadata": {},
   "outputs": [
    {
     "data": {
      "text/plain": [
       "{'input_ids': <tf.Tensor: shape=(2, 15), dtype=int32, numpy=\n",
       "array([[ 101, 1045, 1005, 2310, 2042, 3403, 2005, 7861, 2912, 2914, 2607,\n",
       "        2026, 2878, 2166,  102],\n",
       "       [ 101, 1045, 5223, 2017, 2567, 1012, 1012, 1012,  102,    0,    0,\n",
       "           0,    0,    0,    0]])>, 'attention_mask': <tf.Tensor: shape=(2, 15), dtype=int32, numpy=\n",
       "array([[1, 1, 1, 1, 1, 1, 1, 1, 1, 1, 1, 1, 1, 1, 1],\n",
       "       [1, 1, 1, 1, 1, 1, 1, 1, 1, 0, 0, 0, 0, 0, 0]])>}"
      ]
     },
     "execution_count": 3,
     "metadata": {},
     "output_type": "execute_result"
    }
   ],
   "source": [
    "from transformers import AutoTokenizer\n",
    "\n",
    "checkpoint = \"distilbert-base-uncased-finetuned-sst-2-english\"\n",
    "tokenizer = AutoTokenizer.from_pretrained(checkpoint)\n",
    "\n",
    "raw_inputs = [\n",
    "    \"I've been waiting for EmKa Academy course my whole life\",\n",
    "    \"I hate you brother...\"\n",
    "]\n",
    "\n",
    "inputs = tokenizer(raw_inputs, padding= True, truncation= True, return_tensors= \"tf\")\n",
    "inputs"
   ]
  },
  {
   "cell_type": "markdown",
   "metadata": {},
   "source": [
    "![Stage 2](image-1.png)"
   ]
  },
  {
   "cell_type": "code",
   "execution_count": 4,
   "metadata": {},
   "outputs": [
    {
     "name": "stderr",
     "output_type": "stream",
     "text": [
      "Some weights of the PyTorch model were not used when initializing the TF 2.0 model TFDistilBertModel: ['pre_classifier.weight', 'classifier.weight', 'classifier.bias', 'pre_classifier.bias']\n",
      "- This IS expected if you are initializing TFDistilBertModel from a PyTorch model trained on another task or with another architecture (e.g. initializing a TFBertForSequenceClassification model from a BertForPreTraining model).\n",
      "- This IS NOT expected if you are initializing TFDistilBertModel from a PyTorch model that you expect to be exactly identical (e.g. initializing a TFBertForSequenceClassification model from a BertForSequenceClassification model).\n",
      "All the weights of TFDistilBertModel were initialized from the PyTorch model.\n",
      "If your task is similar to the task the model of the checkpoint was trained on, you can already use TFDistilBertModel for predictions without further training.\n"
     ]
    },
    {
     "name": "stdout",
     "output_type": "stream",
     "text": [
      "TFBaseModelOutput(last_hidden_state=<tf.Tensor: shape=(2, 15, 768), dtype=float32, numpy=\n",
      "array([[[ 0.47508088,  0.12544139,  0.35949305, ..., -0.07024778,\n",
      "          0.15129459,  0.17200321],\n",
      "        [ 1.0680364 ,  0.8778791 , -0.12113761, ...,  0.10178837,\n",
      "          0.5266532 , -0.00159217],\n",
      "        [ 1.1748893 ,  0.06403016,  0.04088037, ...,  0.14178126,\n",
      "         -0.3108806 , -0.561392  ],\n",
      "        ...,\n",
      "        [ 0.6119854 ,  0.32409376,  0.11707756, ..., -0.56740063,\n",
      "          0.5678129 , -0.22134787],\n",
      "        [ 0.8006039 ,  0.47104245,  0.15256916, ..., -0.42048514,\n",
      "          0.25580367,  0.07919621],\n",
      "        [ 0.81338173,  0.3965402 ,  0.09354299, ...,  0.25953385,\n",
      "          0.0606913 , -0.31736967]],\n",
      "\n",
      "       [[-0.34648955,  0.7238452 , -0.4847371 , ..., -0.06404313,\n",
      "         -0.5665267 , -0.28546226],\n",
      "        [-0.13217905,  1.1773334 , -0.44107527, ..., -0.13891427,\n",
      "         -0.30249244,  0.133257  ],\n",
      "        [-0.04977871,  1.1295692 , -0.43537778, ..., -0.3101096 ,\n",
      "         -0.30198026, -0.00582238],\n",
      "        ...,\n",
      "        [-0.33584794,  0.84884244, -0.50391954, ...,  0.06330806,\n",
      "         -0.3793091 , -0.3094698 ],\n",
      "        [-0.3627008 ,  0.89374405, -0.46652976, ...,  0.03970986,\n",
      "         -0.3524817 , -0.27097836],\n",
      "        [-0.3758178 ,  1.093202  , -0.47871488, ..., -0.15887538,\n",
      "         -0.24436218, -0.16912113]]], dtype=float32)>, hidden_states=None, attentions=None)\n",
      "(2, 15, 768)\n"
     ]
    }
   ],
   "source": [
    "from transformers import TFAutoModel\n",
    "\n",
    "checkpoint = \"distilbert-base-uncased-finetuned-sst-2-english\"\n",
    "model = TFAutoModel.from_pretrained(checkpoint)\n",
    "\n",
    "outputs = model(inputs)\n",
    "print(outputs)\n",
    "\n",
    "print(outputs.last_hidden_state.shape) # batch size, sequence length, hidden size"
   ]
  },
  {
   "cell_type": "code",
   "execution_count": 5,
   "metadata": {},
   "outputs": [
    {
     "name": "stderr",
     "output_type": "stream",
     "text": [
      "All PyTorch model weights were used when initializing TFDistilBertForSequenceClassification.\n",
      "\n",
      "All the weights of TFDistilBertForSequenceClassification were initialized from the PyTorch model.\n",
      "If your task is similar to the task the model of the checkpoint was trained on, you can already use TFDistilBertForSequenceClassification for predictions without further training.\n"
     ]
    },
    {
     "name": "stdout",
     "output_type": "stream",
     "text": [
      "TFSequenceClassifierOutput(loss=None, logits=<tf.Tensor: shape=(2, 2), dtype=float32, numpy=\n",
      "array([[-2.1431468,  2.1121008],\n",
      "       [ 3.3839605, -2.806392 ]], dtype=float32)>, hidden_states=None, attentions=None)\n",
      "tf.Tensor(\n",
      "[[-2.1431468  2.1121008]\n",
      " [ 3.3839605 -2.806392 ]], shape=(2, 2), dtype=float32)\n"
     ]
    }
   ],
   "source": [
    "from transformers import TFAutoModelForSequenceClassification\n",
    "\n",
    "checkpoint = \"distilbert-base-uncased-finetuned-sst-2-english\"\n",
    "model = TFAutoModelForSequenceClassification.from_pretrained(checkpoint)\n",
    "\n",
    "outputs = model(inputs)\n",
    "print(outputs)\n",
    "\n",
    "print(outputs.logits)"
   ]
  },
  {
   "cell_type": "markdown",
   "metadata": {},
   "source": [
    "![Stage 3](image-3.png)"
   ]
  },
  {
   "cell_type": "code",
   "execution_count": 6,
   "metadata": {},
   "outputs": [
    {
     "name": "stdout",
     "output_type": "stream",
     "text": [
      "tf.Tensor(\n",
      "[[0.01399105 0.98600894]\n",
      " [0.9979551  0.00204491]], shape=(2, 2), dtype=float32)\n"
     ]
    }
   ],
   "source": [
    "import tensorflow as tf\n",
    "\n",
    "predictions = tf.math.softmax(outputs.logits, axis = -1)\n",
    "print(predictions)"
   ]
  },
  {
   "cell_type": "code",
   "execution_count": 7,
   "metadata": {},
   "outputs": [
    {
     "data": {
      "text/plain": [
       "{0: 'NEGATIVE', 1: 'POSITIVE'}"
      ]
     },
     "execution_count": 7,
     "metadata": {},
     "output_type": "execute_result"
    }
   ],
   "source": [
    "model.config.id2label # # First sentence positive, second sentence negative."
   ]
  },
  {
   "cell_type": "code",
   "execution_count": 8,
   "metadata": {},
   "outputs": [],
   "source": [
    "# You know 3 stage inside the pipeline now."
   ]
  },
  {
   "cell_type": "code",
   "execution_count": 9,
   "metadata": {},
   "outputs": [],
   "source": [
    "# Done"
   ]
  }
 ],
 "metadata": {
  "kernelspec": {
   "display_name": "nlp",
   "language": "python",
   "name": "python3"
  },
  "language_info": {
   "codemirror_mode": {
    "name": "ipython",
    "version": 3
   },
   "file_extension": ".py",
   "mimetype": "text/x-python",
   "name": "python",
   "nbconvert_exporter": "python",
   "pygments_lexer": "ipython3",
   "version": "3.10.10"
  },
  "orig_nbformat": 4
 },
 "nbformat": 4,
 "nbformat_minor": 2
}
