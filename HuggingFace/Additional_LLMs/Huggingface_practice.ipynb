{
 "cells": [
  {
   "cell_type": "markdown",
   "metadata": {},
   "source": [
    "# Sentiment-Analysis"
   ]
  },
  {
   "cell_type": "code",
   "execution_count": 1,
   "metadata": {},
   "outputs": [],
   "source": [
    "from transformers import pipeline"
   ]
  },
  {
   "cell_type": "code",
   "execution_count": 2,
   "metadata": {},
   "outputs": [],
   "source": [
    "classifier = pipeline(task = 'sentiment-analysis' , model = 'distilbert-base-uncased-finetuned-sst-2-english')"
   ]
  },
  {
   "cell_type": "code",
   "execution_count": 3,
   "metadata": {},
   "outputs": [
    {
     "data": {
      "text/plain": [
       "[{'label': 'NEGATIVE', 'score': 0.9987472295761108}]"
      ]
     },
     "execution_count": 3,
     "metadata": {},
     "output_type": "execute_result"
    }
   ],
   "source": [
    "classifier(\"I hate you!\")"
   ]
  },
  {
   "cell_type": "code",
   "execution_count": 4,
   "metadata": {},
   "outputs": [
    {
     "data": {
      "text/plain": [
       "[{'label': 'POSITIVE', 'score': 0.9998683929443359}]"
      ]
     },
     "execution_count": 4,
     "metadata": {},
     "output_type": "execute_result"
    }
   ],
   "source": [
    "classifier(\"I love you a little bit\")"
   ]
  },
  {
   "cell_type": "code",
   "execution_count": 5,
   "metadata": {},
   "outputs": [
    {
     "data": {
      "text/plain": [
       "[{'label': 'NEGATIVE', 'score': 0.9932945370674133}]"
      ]
     },
     "execution_count": 5,
     "metadata": {},
     "output_type": "execute_result"
    }
   ],
   "source": [
    "classifier(\"I'm trying to love you but I can't!\") # Perfect !"
   ]
  },
  {
   "cell_type": "markdown",
   "metadata": {},
   "source": [
    "### Batch Prediction"
   ]
  },
  {
   "cell_type": "code",
   "execution_count": 9,
   "metadata": {},
   "outputs": [
    {
     "data": {
      "text/plain": [
       "[{'label': 'POSITIVE', 'score': 0.999864935874939},\n",
       " {'label': 'POSITIVE', 'score': 0.9998414516448975},\n",
       " {'label': 'NEGATIVE', 'score': 0.9997919201850891},\n",
       " {'label': 'NEGATIVE', 'score': 0.9997666478157043},\n",
       " {'label': 'POSITIVE', 'score': 0.9998656511306763},\n",
       " {'label': 'NEGATIVE', 'score': 0.9640307426452637},\n",
       " {'label': 'POSITIVE', 'score': 0.9815478324890137}]"
      ]
     },
     "execution_count": 9,
     "metadata": {},
     "output_type": "execute_result"
    }
   ],
   "source": [
    "text_list = [\n",
    "    \"This was great\", \\\n",
    "    \"Thank you so much\", \\\n",
    "    \"You are the worst\", \\\n",
    "    \"You are the bad\", \\\n",
    "    \"I love you\", \\\n",
    "    \"I won't to tell you thanks\",\n",
    "    \"I'm neutral about you. You are classic person.\" # The model designed for Positive or Negative, so it couldn't get neutral sentences.\n",
    "    ]\n",
    "\n",
    "classifier(text_list)"
   ]
  },
  {
   "cell_type": "markdown",
   "metadata": {},
   "source": [
    "# Text-Classification"
   ]
  },
  {
   "cell_type": "code",
   "execution_count": 11,
   "metadata": {},
   "outputs": [],
   "source": [
    "classifier2 = pipeline(task = \"text-classification\" , model = \"SamLowe/roberta-base-go_emotions\" , top_k = None)"
   ]
  },
  {
   "cell_type": "code",
   "execution_count": 12,
   "metadata": {},
   "outputs": [
    {
     "data": {
      "text/plain": [
       "[[{'label': 'admiration', 'score': 0.9534181952476501},\n",
       "  {'label': 'approval', 'score': 0.028608636930584908},\n",
       "  {'label': 'neutral', 'score': 0.013707645237445831},\n",
       "  {'label': 'excitement', 'score': 0.006962278857827187},\n",
       "  {'label': 'gratitude', 'score': 0.005701325833797455},\n",
       "  {'label': 'joy', 'score': 0.005340701434761286},\n",
       "  {'label': 'curiosity', 'score': 0.004631019197404385},\n",
       "  {'label': 'realization', 'score': 0.003987195901572704},\n",
       "  {'label': 'optimism', 'score': 0.003912657964974642},\n",
       "  {'label': 'disapproval', 'score': 0.0037883592303842306},\n",
       "  {'label': 'annoyance', 'score': 0.003305671038106084},\n",
       "  {'label': 'surprise', 'score': 0.0031987715046852827},\n",
       "  {'label': 'amusement', 'score': 0.002930436749011278},\n",
       "  {'label': 'love', 'score': 0.002850919496268034},\n",
       "  {'label': 'disappointment', 'score': 0.002605288289487362},\n",
       "  {'label': 'confusion', 'score': 0.002379615092650056},\n",
       "  {'label': 'pride', 'score': 0.002133243950083852},\n",
       "  {'label': 'sadness', 'score': 0.001724783331155777},\n",
       "  {'label': 'anger', 'score': 0.0016685834852978587},\n",
       "  {'label': 'caring', 'score': 0.0013087877305224538},\n",
       "  {'label': 'desire', 'score': 0.0010176831856369972},\n",
       "  {'label': 'disgust', 'score': 0.0009434534003958106},\n",
       "  {'label': 'fear', 'score': 0.000538207939825952},\n",
       "  {'label': 'relief', 'score': 0.0005079366383142769},\n",
       "  {'label': 'embarrassment', 'score': 0.0003406184259802103},\n",
       "  {'label': 'grief', 'score': 0.0003404061426408589},\n",
       "  {'label': 'remorse', 'score': 0.00026712907128967345},\n",
       "  {'label': 'nervousness', 'score': 0.00021848917822353542}]]"
      ]
     },
     "execution_count": 12,
     "metadata": {},
     "output_type": "execute_result"
    }
   ],
   "source": [
    "classifier2(text_list[0])"
   ]
  },
  {
   "cell_type": "markdown",
   "metadata": {},
   "source": [
    "# Summarization"
   ]
  },
  {
   "cell_type": "code",
   "execution_count": 14,
   "metadata": {},
   "outputs": [],
   "source": [
    "summarizater = pipeline(task = 'summarization', model = 't5-small')"
   ]
  },
  {
   "cell_type": "code",
   "execution_count": 20,
   "metadata": {},
   "outputs": [
    {
     "data": {
      "text/plain": [
       "'in the early 20th century, the world witnessed the rapid advancement of technology, bringing transformative changes to society . the invention of the airplane revolutionized transportation, allowing for international travel in a matter of hours instead of weeks '"
      ]
     },
     "execution_count": 20,
     "metadata": {},
     "output_type": "execute_result"
    }
   ],
   "source": [
    "summarized_text = summarizater(\"In the early 20th century, the world witnessed the rapid advancement of technology, bringing transformative changes to society. The invention of the airplane revolutionized transportation, allowing for international travel in a matter of hours instead of weeks. Meanwhile, the development of the Internet provided unparalleled access to information, fundamentally altering the way people work, socialize, and acquire knowledge. Concurrently, advancements in medical science, such as the discovery of antibiotics, dramatically increased life expectancy. However, these technological strides also had their downsides, including environmental degradation and the potential for misuse of information. Overall, the technological advancements of the early 20th century had both positive and negative impacts, reshaping the world in ways that were previously unimaginable.\"\n",
    "                                , max_length = 50)[0]['summary_text']\n",
    "\n",
    "summarized_text"
   ]
  },
  {
   "cell_type": "markdown",
   "metadata": {},
   "source": [
    "# Summarization + Sentiment Analysis"
   ]
  },
  {
   "cell_type": "code",
   "execution_count": 21,
   "metadata": {},
   "outputs": [
    {
     "data": {
      "text/plain": [
       "[[{'label': 'approval', 'score': 0.26086097955703735},\n",
       "  {'label': 'neutral', 'score': 0.22571544349193573},\n",
       "  {'label': 'realization', 'score': 0.162332683801651},\n",
       "  {'label': 'admiration', 'score': 0.10970934480428696},\n",
       "  {'label': 'excitement', 'score': 0.07563228905200958},\n",
       "  {'label': 'surprise', 'score': 0.039021462202072144},\n",
       "  {'label': 'optimism', 'score': 0.030771173536777496},\n",
       "  {'label': 'joy', 'score': 0.02885095216333866},\n",
       "  {'label': 'pride', 'score': 0.011724250391125679},\n",
       "  {'label': 'relief', 'score': 0.008633295074105263},\n",
       "  {'label': 'annoyance', 'score': 0.0075127314776182175},\n",
       "  {'label': 'disappointment', 'score': 0.0038407589308917522},\n",
       "  {'label': 'amusement', 'score': 0.00383076723664999},\n",
       "  {'label': 'desire', 'score': 0.0037695677019655704},\n",
       "  {'label': 'gratitude', 'score': 0.002897527301684022},\n",
       "  {'label': 'fear', 'score': 0.002366075525060296},\n",
       "  {'label': 'curiosity', 'score': 0.002321252366527915},\n",
       "  {'label': 'disapproval', 'score': 0.0022240853868424892},\n",
       "  {'label': 'caring', 'score': 0.001955247949808836},\n",
       "  {'label': 'confusion', 'score': 0.0017992500215768814},\n",
       "  {'label': 'disgust', 'score': 0.0015726140700280666},\n",
       "  {'label': 'nervousness', 'score': 0.001402035471983254},\n",
       "  {'label': 'embarrassment', 'score': 0.0013087110128253698},\n",
       "  {'label': 'anger', 'score': 0.0012873875675722957},\n",
       "  {'label': 'sadness', 'score': 0.0012355013750493526},\n",
       "  {'label': 'love', 'score': 0.0010921931825578213},\n",
       "  {'label': 'grief', 'score': 0.0010447078384459019},\n",
       "  {'label': 'remorse', 'score': 0.0004326986672822386}]]"
      ]
     },
     "execution_count": 21,
     "metadata": {},
     "output_type": "execute_result"
    }
   ],
   "source": [
    "classifier2(summarized_text)"
   ]
  },
  {
   "cell_type": "markdown",
   "metadata": {},
   "source": [
    "# Conversational(Chatbot)"
   ]
  },
  {
   "cell_type": "code",
   "execution_count": 30,
   "metadata": {},
   "outputs": [],
   "source": [
    "from transformers import Conversation"
   ]
  },
  {
   "cell_type": "code",
   "execution_count": 27,
   "metadata": {},
   "outputs": [],
   "source": [
    "chatbot = pipeline(task = 'conversational' , model = \"facebook/blenderbot-400M-distill\")"
   ]
  },
  {
   "cell_type": "code",
   "execution_count": 33,
   "metadata": {},
   "outputs": [],
   "source": [
    "conversation_1 = Conversation(\"What's the capital of Turkey ?\")"
   ]
  },
  {
   "cell_type": "code",
   "execution_count": 34,
   "metadata": {},
   "outputs": [
    {
     "data": {
      "text/plain": [
       "Conversation id: 6225be42-5f54-455f-bc80-79a63d0be5ae \n",
       "user >> What's the capital of Turkey ? \n",
       "bot >>  The capital is Moscow. It is the most populous city in the world. "
      ]
     },
     "execution_count": 34,
     "metadata": {},
     "output_type": "execute_result"
    }
   ],
   "source": [
    "output_1 = chatbot(conversation_1) # Blenderbot is bad model.\n",
    "output_1"
   ]
  },
  {
   "cell_type": "code",
   "execution_count": 35,
   "metadata": {},
   "outputs": [],
   "source": [
    "conversation_2 = Conversation(\"Hi, how are you today ?\")"
   ]
  },
  {
   "cell_type": "code",
   "execution_count": 36,
   "metadata": {},
   "outputs": [
    {
     "data": {
      "text/plain": [
       "Conversation id: 3a46226c-5812-405b-9a55-f881490b42e1 \n",
       "user >> Hi, how are you today ? \n",
       "bot >>  I'm doing well, thank you. How are you? Do you have any hobbies? "
      ]
     },
     "execution_count": 36,
     "metadata": {},
     "output_type": "execute_result"
    }
   ],
   "source": [
    "output_2 = chatbot(conversation_2)\n",
    "output_2"
   ]
  },
  {
   "cell_type": "code",
   "execution_count": 37,
   "metadata": {},
   "outputs": [
    {
     "data": {
      "text/plain": [
       "Conversation id: 3a46226c-5812-405b-9a55-f881490b42e1 \n",
       "user >> Hi, how are you today ? \n",
       "bot >>  I'm doing well, thank you. How are you? Do you have any hobbies? \n",
       "user >> Where do you work ? \n",
       "bot >>  I work at a grocery store. I'm a cashier. What do you do? "
      ]
     },
     "execution_count": 37,
     "metadata": {},
     "output_type": "execute_result"
    }
   ],
   "source": [
    "conversation_2.add_user_input('Where do you work ?')\n",
    "conversation_2 = chatbot(conversation_2)\n",
    "conversation_2"
   ]
  },
  {
   "cell_type": "markdown",
   "metadata": {},
   "source": [
    "# Chatbot UI with Gradio"
   ]
  },
  {
   "cell_type": "code",
   "execution_count": 39,
   "metadata": {},
   "outputs": [],
   "source": [
    "import gradio as gr"
   ]
  },
  {
   "cell_type": "code",
   "execution_count": null,
   "metadata": {},
   "outputs": [
    {
     "name": "stdout",
     "output_type": "stream",
     "text": [
      "Running on local URL:  http://127.0.0.1:7860\n",
      "\n",
      "To create a public link, set `share=True` in `launch()`.\n"
     ]
    },
    {
     "data": {
      "text/html": [
       "<div><iframe src=\"http://127.0.0.1:7860/\" width=\"100%\" height=\"500\" allow=\"autoplay; camera; microphone; clipboard-read; clipboard-write;\" frameborder=\"0\" allowfullscreen></iframe></div>"
      ],
      "text/plain": [
       "<IPython.core.display.HTML object>"
      ]
     },
     "metadata": {},
     "output_type": "display_data"
    },
    {
     "data": {
      "text/plain": []
     },
     "execution_count": 40,
     "metadata": {},
     "output_type": "execute_result"
    },
    {
     "name": "stderr",
     "output_type": "stream",
     "text": [
      "Conversation input is to long (53), trimming it to (60 - 10)\n",
      "Conversation input is to long (92), trimming it to (60 - 10)\n",
      "Token indices sequence length is longer than the specified maximum sequence length for this model (135 > 128). Running this sequence through the model will result in indexing errors\n",
      "Trimmed input from conversation as it was longer than 128 tokens.\n",
      "Conversation input is to long (128), trimming it to (60 - 10)\n"
     ]
    }
   ],
   "source": [
    "message_list = []\n",
    "response_list = []\n",
    "\n",
    "def vanilla_chatbot(message, history):\n",
    "    conversation = Conversation(text = message, past_user_inputs=message_list, generated_responses=response_list)\n",
    "    conversation = chatbot(conversation)\n",
    "    \n",
    "    return conversation.generated_responses[-1]\n",
    "\n",
    "demo_chatbot = gr.ChatInterface(vanilla_chatbot, title= 'Vanilla Chatbot' , description= \"Enter text to start chatting.\")\n",
    "demo_chatbot.launch()"
   ]
  },
  {
   "cell_type": "code",
   "execution_count": null,
   "metadata": {},
   "outputs": [],
   "source": [
    "# Done"
   ]
  }
 ],
 "metadata": {
  "kernelspec": {
   "display_name": "nlp",
   "language": "python",
   "name": "python3"
  },
  "language_info": {
   "codemirror_mode": {
    "name": "ipython",
    "version": 3
   },
   "file_extension": ".py",
   "mimetype": "text/x-python",
   "name": "python",
   "nbconvert_exporter": "python",
   "pygments_lexer": "ipython3",
   "version": "3.10.10"
  }
 },
 "nbformat": 4,
 "nbformat_minor": 2
}
