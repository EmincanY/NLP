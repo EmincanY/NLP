{
 "cells": [
  {
   "cell_type": "code",
   "execution_count": 1,
   "metadata": {},
   "outputs": [],
   "source": [
    "import openai\n",
    "from sk import my_sk\n",
    "import time"
   ]
  },
  {
   "cell_type": "code",
   "execution_count": 2,
   "metadata": {},
   "outputs": [],
   "source": [
    "openai.api_key = my_sk"
   ]
  },
  {
   "cell_type": "code",
   "execution_count": 40,
   "metadata": {},
   "outputs": [],
   "source": [
    "chat_completion = openai.ChatCompletion.create(model= \"gpt-3.5-turbo\",\n",
    "                                        messages=[{'role' : 'user' , 'content': 'Quran is'}],\n",
    "                                        max_tokens = 20,\n",
    "                                        n = 5,\n",
    "                                        temperature = 0.9)"
   ]
  },
  {
   "cell_type": "code",
   "execution_count": 41,
   "metadata": {},
   "outputs": [
    {
     "data": {
      "text/plain": [
       "{'id': 'chatcmpl-8A40yFc908uZmIEiJ6oRFmEOEELr2',\n",
       " 'object': 'chat.completion',\n",
       " 'created': 1697409404,\n",
       " 'model': 'gpt-3.5-turbo-0613',\n",
       " 'choices': [<OpenAIObject at 0x22f1c2cf5b0> JSON: {\n",
       "    \"index\": 0,\n",
       "    \"message\": {\n",
       "      \"role\": \"assistant\",\n",
       "      \"content\": \"the holy book of Islam. It is considered by Muslims to be the word of God as revealed to\"\n",
       "    },\n",
       "    \"finish_reason\": \"length\"\n",
       "  },\n",
       "  <OpenAIObject at 0x22f1c2e5260> JSON: {\n",
       "    \"index\": 1,\n",
       "    \"message\": {\n",
       "      \"role\": \"assistant\",\n",
       "      \"content\": \"the holy book of Islam. It is considered by Muslims to be the word of God as revealed to\"\n",
       "    },\n",
       "    \"finish_reason\": \"length\"\n",
       "  },\n",
       "  <OpenAIObject at 0x22f1c2e49a0> JSON: {\n",
       "    \"index\": 2,\n",
       "    \"message\": {\n",
       "      \"role\": \"assistant\",\n",
       "      \"content\": \"the holy book of Islam, believed by Muslims to be the word of God as revealed to the Prophet\"\n",
       "    },\n",
       "    \"finish_reason\": \"length\"\n",
       "  },\n",
       "  <OpenAIObject at 0x22f1c2e4810> JSON: {\n",
       "    \"index\": 3,\n",
       "    \"message\": {\n",
       "      \"role\": \"assistant\",\n",
       "      \"content\": \"the central religious text of Islam, regarded by Muslims as the literal word of God (Allah)\"\n",
       "    },\n",
       "    \"finish_reason\": \"length\"\n",
       "  },\n",
       "  <OpenAIObject at 0x22f1c2e5ad0> JSON: {\n",
       "    \"index\": 4,\n",
       "    \"message\": {\n",
       "      \"role\": \"assistant\",\n",
       "      \"content\": \"the religious text of Islam. It is considered by Muslims to be a revelation from Allah (God)\"\n",
       "    },\n",
       "    \"finish_reason\": \"length\"\n",
       "  }],\n",
       " 'usage': <OpenAIObject at 0x22f1c2e5c10> JSON: {\n",
       "   \"prompt_tokens\": 10,\n",
       "   \"completion_tokens\": 100,\n",
       "   \"total_tokens\": 110\n",
       " }}"
      ]
     },
     "execution_count": 41,
     "metadata": {},
     "output_type": "execute_result"
    }
   ],
   "source": [
    "chat_completion.to_dict()"
   ]
  },
  {
   "cell_type": "code",
   "execution_count": 42,
   "metadata": {},
   "outputs": [
    {
     "name": "stdout",
     "output_type": "stream",
     "text": [
      "the holy book of Islam. It is considered by Muslims to be the word of God as revealed to\n",
      "the holy book of Islam. It is considered by Muslims to be the word of God as revealed to\n",
      "the holy book of Islam, believed by Muslims to be the word of God as revealed to the Prophet\n",
      "the central religious text of Islam, regarded by Muslims as the literal word of God (Allah)\n",
      "the religious text of Islam. It is considered by Muslims to be a revelation from Allah (God)\n"
     ]
    }
   ],
   "source": [
    "for i in range(len(chat_completion.choices)):\n",
    "    print(chat_completion.choices[i].message.content)"
   ]
  },
  {
   "cell_type": "code",
   "execution_count": null,
   "metadata": {},
   "outputs": [],
   "source": [
    "# Done"
   ]
  }
 ],
 "metadata": {
  "kernelspec": {
   "display_name": "nlp",
   "language": "python",
   "name": "python3"
  },
  "language_info": {
   "codemirror_mode": {
    "name": "ipython",
    "version": 3
   },
   "file_extension": ".py",
   "mimetype": "text/x-python",
   "name": "python",
   "nbconvert_exporter": "python",
   "pygments_lexer": "ipython3",
   "version": "3.10.10"
  }
 },
 "nbformat": 4,
 "nbformat_minor": 2
}
