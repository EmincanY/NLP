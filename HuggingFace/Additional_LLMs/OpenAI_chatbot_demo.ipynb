{
 "cells": [
  {
   "cell_type": "markdown",
   "metadata": {},
   "source": [
    "# Setup"
   ]
  },
  {
   "cell_type": "code",
   "execution_count": 1,
   "metadata": {},
   "outputs": [],
   "source": [
    "import openai\n",
    "from sk import my_sk\n",
    "import time"
   ]
  },
  {
   "cell_type": "code",
   "execution_count": 2,
   "metadata": {},
   "outputs": [],
   "source": [
    "openai.api_key = my_sk"
   ]
  },
  {
   "cell_type": "markdown",
   "metadata": {},
   "source": [
    "# Codes"
   ]
  },
  {
   "cell_type": "code",
   "execution_count": null,
   "metadata": {},
   "outputs": [],
   "source": [
    "chat_completion = openai.ChatCompletion.create(model = 'gpt-4',\n",
    "                                               messages = [{'role': 'user', 'content': \"Let's learn the\"}],\n",
    "                                               max_tokens = 20)"
   ]
  },
  {
   "cell_type": "code",
   "execution_count": null,
   "metadata": {},
   "outputs": [],
   "source": [
    "chat_completion.to_dict()"
   ]
  },
  {
   "cell_type": "markdown",
   "metadata": {},
   "source": [
    "# Demo: Lyric Completion Assistant"
   ]
  },
  {
   "cell_type": "code",
   "execution_count": 3,
   "metadata": {},
   "outputs": [],
   "source": [
    "# Initial prompt with system message and 2 task examples.\n",
    "messages_list = [\n",
    "    {'role': 'system' , 'content': 'Hello, I am an Islamic chatbot. How can I help you today?'},\n",
    "    {'role': 'system' , 'content': 'I can help you with Islamic prayer times and other Islamic related information.'},\n",
    "    {'role': 'user' , 'content': 'I want to learn which prophet is the last one ?'},\n",
    "    {'role': 'assistant' , 'content': 'Sure, Prophet Mohammed is the last prophet for Islam.'},\n",
    "    {'role': 'user' , 'content': 'I want to learn how many prophet in the Islam ?'},\n",
    "]"
   ]
  },
  {
   "cell_type": "code",
   "execution_count": 4,
   "metadata": {},
   "outputs": [
    {
     "name": "stdout",
     "output_type": "stream",
     "text": [
      "According to Islamic belief, there were a total of 124,000 prophets sent by Allah to guide\n",
      "humanity throughout history. However, the names of only a few prophets are mentioned in the Quran,\n",
      "such as Adam, Noah, Abraham, Moses, Jesus, and Muhammad (peace be upon them all\n"
     ]
    }
   ],
   "source": [
    "for i in range(3):\n",
    "    chat_completion = openai.ChatCompletion.create(model = \"gpt-3.5-turbo\",\n",
    "                                                   messages = messages_list,\n",
    "                                                   max_tokens = 20,\n",
    "                                                   n= 1,\n",
    "                                                   temperature = 0.8)\n",
    "    \n",
    "    print(chat_completion.choices[0].message.content)\n",
    "    \n",
    "    new_message = {'role' : 'assistant' , 'content': chat_completion.choices[0].message.content}\n",
    "    messages_list.append(new_message)\n",
    "    time.sleep(0.1)"
   ]
  },
  {
   "cell_type": "code",
   "execution_count": null,
   "metadata": {},
   "outputs": [],
   "source": [
    "# Done."
   ]
  }
 ],
 "metadata": {
  "kernelspec": {
   "display_name": "nlp",
   "language": "python",
   "name": "python3"
  },
  "language_info": {
   "codemirror_mode": {
    "name": "ipython",
    "version": 3
   },
   "file_extension": ".py",
   "mimetype": "text/x-python",
   "name": "python",
   "nbconvert_exporter": "python",
   "pygments_lexer": "ipython3",
   "version": "3.10.10"
  }
 },
 "nbformat": 4,
 "nbformat_minor": 2
}
