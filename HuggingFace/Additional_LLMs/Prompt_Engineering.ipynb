{
 "cells": [
  {
   "cell_type": "markdown",
   "metadata": {},
   "source": [
    "# Example Code: Automatic Grader with LangChain"
   ]
  },
  {
   "cell_type": "markdown",
   "metadata": {},
   "source": [
    "## Libraries"
   ]
  },
  {
   "cell_type": "code",
   "execution_count": 1,
   "metadata": {},
   "outputs": [],
   "source": [
    "from langchain.chat_models import ChatOpenAI\n",
    "from langchain.prompts import PromptTemplate\n",
    "from langchain.chains import LLMChain\n",
    "from langchain.schema import BaseOutputParser"
   ]
  },
  {
   "cell_type": "code",
   "execution_count": 2,
   "metadata": {},
   "outputs": [],
   "source": [
    "from sk import my_sk"
   ]
  },
  {
   "cell_type": "markdown",
   "metadata": {},
   "source": [
    "## Our 1st Chain"
   ]
  },
  {
   "cell_type": "code",
   "execution_count": 3,
   "metadata": {},
   "outputs": [],
   "source": [
    "# Dfine LLM Object\n",
    "chat_model = ChatOpenAI(openai_api_key = my_sk , temperature= 0) # Default GPT3.5-Turbo"
   ]
  },
  {
   "cell_type": "code",
   "execution_count": 4,
   "metadata": {},
   "outputs": [],
   "source": [
    "# Define prompt template\n",
    "prompt_template_text = \"\"\"\n",
    "You are a high school history teacher grading \\\n",
    "and the correct answer indicated by \"**A**\", your task is to determine \\\n",
    "whether the student's answer is correct. Grading is binary; therefore, \\\n",
    "student answer can be correct or wrong. Simple misspellings are okay.\n",
    "\n",
    "**Q** {question}\n",
    "**A** {correct_answer}\n",
    "\n",
    "\"\"Student's Answer:** {student_answer}\n",
    "\"\"\"\n",
    "\n",
    "prompt = PromptTemplate(\n",
    "    input_variables= ['question' , 'correct_answer' , 'student_answer'], \\\n",
    "    template= prompt_template_text\n",
    ")"
   ]
  },
  {
   "cell_type": "code",
   "execution_count": 5,
   "metadata": {},
   "outputs": [],
   "source": [
    "# Define Chain\n",
    "chain = LLMChain(llm= chat_model, prompt= prompt)"
   ]
  },
  {
   "cell_type": "code",
   "execution_count": 6,
   "metadata": {},
   "outputs": [
    {
     "data": {
      "text/plain": [
       "\"Student's Answer: FDR\\n\\nThe student's answer is incorrect. The correct answer is John F. Kennedy.\""
      ]
     },
     "execution_count": 6,
     "metadata": {},
     "output_type": "execute_result"
    }
   ],
   "source": [
    "# Define inputs\n",
    "question = \"Who was the 35th president of the United States of America?\"\n",
    "correct_answer = \"John F. Kennedy\"\n",
    "student_answer = \"FDR\"\n",
    "\n",
    "# Run chain\n",
    "chain.run({'question': question,\n",
    "           'correct_answer': correct_answer,\n",
    "           'student_answer': student_answer})\n",
    "\n",
    "# Output: Student's answer is incorrect"
   ]
  },
  {
   "cell_type": "code",
   "execution_count": 7,
   "metadata": {},
   "outputs": [],
   "source": [
    "# Define output parser\n",
    "class GradeOutputParser(BaseOutputParser):\n",
    "    \"\"\"Determine whether grade was correct or wrong\"\"\"\n",
    "    \n",
    "    def parse(self, text: str):\n",
    "        \"\"\"Parse the output of an LLM call.\"\"\"\n",
    "        return \"incorrect\" not in text.lower()"
   ]
  },
  {
   "cell_type": "code",
   "execution_count": 8,
   "metadata": {},
   "outputs": [],
   "source": [
    "# Update Chain\n",
    "chain = LLMChain(\n",
    "    llm=chat_model,\n",
    "    prompt=prompt,\n",
    "    output_parser=GradeOutputParser()\n",
    ")"
   ]
  },
  {
   "cell_type": "code",
   "execution_count": 9,
   "metadata": {},
   "outputs": [
    {
     "data": {
      "text/plain": [
       "False"
      ]
     },
     "execution_count": 9,
     "metadata": {},
     "output_type": "execute_result"
    }
   ],
   "source": [
    "# Define inputs\n",
    "question = \"Who was the 35th president of the United States of America?\"\n",
    "correct_answer = \"John F. Kennedy\"\n",
    "student_answer = \"FDR\"\n",
    "\n",
    "# Run chain\n",
    "chain.run({'question': question,\n",
    "           'correct_answer': correct_answer,\n",
    "           'student_answer': student_answer})\n",
    "\n",
    "# Output: Student's answer is incorrect"
   ]
  },
  {
   "cell_type": "code",
   "execution_count": 12,
   "metadata": {},
   "outputs": [
    {
     "name": "stdout",
     "output_type": "stream",
     "text": [
      "John F. Kennedy - True\n",
      "\n",
      "\n",
      "JFK - True\n",
      "\n",
      "\n",
      "FDR - False\n",
      "\n",
      "\n",
      "John F. Kenedy - False\n",
      "\n",
      "\n",
      "John Kennedy - True\n",
      "\n",
      "\n",
      "Jack Kennedy - True\n",
      "\n",
      "\n",
      "Jacquelin Kennedy - False\n",
      "\n",
      "\n",
      "Robert F. Kenedy - False\n",
      "\n",
      "\n"
     ]
    }
   ],
   "source": [
    "# Run chain in for loop\n",
    "student_answer_list = [\"John F. Kennedy\" , \"JFK\" , \"FDR\", \"John F. Kenedy\",\\\n",
    "    \"John Kennedy\", \"Jack Kennedy\" , \"Jacquelin Kennedy\", \\\n",
    "        \"Robert F. Kenedy\"]\n",
    "\n",
    "for student_answer in student_answer_list:\n",
    "    print(student_answer + \" - \" + str(chain.run({'question': question,\n",
    "                                                 'correct_answer': correct_answer,\n",
    "                                                 'student_answer': student_answer})))\n",
    "    print('\\n')"
   ]
  },
  {
   "cell_type": "code",
   "execution_count": null,
   "metadata": {},
   "outputs": [],
   "source": [
    "# Done."
   ]
  }
 ],
 "metadata": {
  "kernelspec": {
   "display_name": "nlp",
   "language": "python",
   "name": "python3"
  },
  "language_info": {
   "codemirror_mode": {
    "name": "ipython",
    "version": 3
   },
   "file_extension": ".py",
   "mimetype": "text/x-python",
   "name": "python",
   "nbconvert_exporter": "python",
   "pygments_lexer": "ipython3",
   "version": "3.11.5"
  }
 },
 "nbformat": 4,
 "nbformat_minor": 2
}
