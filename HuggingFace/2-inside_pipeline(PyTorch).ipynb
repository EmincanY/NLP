{
 "cells": [
  {
   "cell_type": "code",
   "execution_count": 1,
   "metadata": {},
   "outputs": [],
   "source": [
    "from transformers import pipeline"
   ]
  },
  {
   "cell_type": "code",
   "execution_count": 2,
   "metadata": {},
   "outputs": [
    {
     "name": "stderr",
     "output_type": "stream",
     "text": [
      "No model was supplied, defaulted to distilbert-base-uncased-finetuned-sst-2-english and revision af0f99b (https://huggingface.co/distilbert-base-uncased-finetuned-sst-2-english).\n",
      "Using a pipeline without specifying a model name and revision in production is not recommended.\n"
     ]
    },
    {
     "data": {
      "text/plain": [
       "[{'label': 'POSITIVE', 'score': 0.9860089421272278},\n",
       " {'label': 'NEGATIVE', 'score': 0.9979550838470459}]"
      ]
     },
     "execution_count": 2,
     "metadata": {},
     "output_type": "execute_result"
    }
   ],
   "source": [
    "classifier = pipeline('sentiment-analysis')\n",
    "classifier([\n",
    "    \"I've been waiting for EmKa Academy course my whole life\",\n",
    "    \"I hate you brother...\"\n",
    "])"
   ]
  },
  {
   "cell_type": "markdown",
   "metadata": {},
   "source": [
    "## What happens inside pipeline function ?"
   ]
  },
  {
   "cell_type": "markdown",
   "metadata": {},
   "source": [
    "![All Stages](image-2.png)"
   ]
  },
  {
   "cell_type": "markdown",
   "metadata": {},
   "source": [
    "![Alt Stage 1](image.png)"
   ]
  },
  {
   "cell_type": "code",
   "execution_count": 3,
   "metadata": {},
   "outputs": [
    {
     "data": {
      "text/plain": [
       "{'input_ids': tensor([[ 101, 1045, 1005, 2310, 2042, 3403, 2005, 7861, 2912, 2914, 2607, 2026,\n",
       "         2878, 2166,  102],\n",
       "        [ 101, 1045, 5223, 2017, 2567, 1012, 1012, 1012,  102,    0,    0,    0,\n",
       "            0,    0,    0]]), 'attention_mask': tensor([[1, 1, 1, 1, 1, 1, 1, 1, 1, 1, 1, 1, 1, 1, 1],\n",
       "        [1, 1, 1, 1, 1, 1, 1, 1, 1, 0, 0, 0, 0, 0, 0]])}"
      ]
     },
     "execution_count": 3,
     "metadata": {},
     "output_type": "execute_result"
    }
   ],
   "source": [
    "from transformers import AutoTokenizer\n",
    "\n",
    "checkpoint = \"distilbert-base-uncased-finetuned-sst-2-english\"\n",
    "tokenizer = AutoTokenizer.from_pretrained(checkpoint)\n",
    "\n",
    "raw_inputs = [\n",
    "    \"I've been waiting for EmKa Academy course my whole life\",\n",
    "    \"I hate you brother...\"\n",
    "]\n",
    "\n",
    "inputs = tokenizer(raw_inputs, padding= True, truncation= True, return_tensors= \"pt\")\n",
    "inputs"
   ]
  },
  {
   "cell_type": "markdown",
   "metadata": {},
   "source": [
    "![Stage 2](image-1.png)"
   ]
  },
  {
   "cell_type": "code",
   "execution_count": 4,
   "metadata": {},
   "outputs": [
    {
     "name": "stdout",
     "output_type": "stream",
     "text": [
      "BaseModelOutput(last_hidden_state=tensor([[[ 0.4751,  0.1254,  0.3595,  ..., -0.0702,  0.1513,  0.1720],\n",
      "         [ 1.0680,  0.8779, -0.1211,  ...,  0.1018,  0.5267, -0.0016],\n",
      "         [ 1.1749,  0.0640,  0.0409,  ...,  0.1418, -0.3109, -0.5614],\n",
      "         ...,\n",
      "         [ 0.6120,  0.3241,  0.1171,  ..., -0.5674,  0.5678, -0.2213],\n",
      "         [ 0.8006,  0.4710,  0.1526,  ..., -0.4205,  0.2558,  0.0792],\n",
      "         [ 0.8134,  0.3965,  0.0935,  ...,  0.2595,  0.0607, -0.3174]],\n",
      "\n",
      "        [[-0.3465,  0.7238, -0.4847,  ..., -0.0640, -0.5665, -0.2855],\n",
      "         [-0.1322,  1.1773, -0.4411,  ..., -0.1389, -0.3025,  0.1333],\n",
      "         [-0.0498,  1.1296, -0.4354,  ..., -0.3101, -0.3020, -0.0058],\n",
      "         ...,\n",
      "         [-0.3358,  0.8488, -0.5039,  ...,  0.0633, -0.3793, -0.3095],\n",
      "         [-0.3627,  0.8937, -0.4665,  ...,  0.0397, -0.3525, -0.2710],\n",
      "         [-0.3758,  1.0932, -0.4787,  ..., -0.1589, -0.2444, -0.1691]]],\n",
      "       grad_fn=<NativeLayerNormBackward0>), hidden_states=None, attentions=None)\n",
      "torch.Size([2, 15, 768])\n"
     ]
    }
   ],
   "source": [
    "from transformers import AutoModel\n",
    "\n",
    "checkpoint = \"distilbert-base-uncased-finetuned-sst-2-english\"\n",
    "model = AutoModel.from_pretrained(checkpoint)\n",
    "\n",
    "outputs = model(**inputs)\n",
    "print(outputs)\n",
    "\n",
    "print(outputs.last_hidden_state.shape) # batch size, sequence length, hidden size"
   ]
  },
  {
   "cell_type": "code",
   "execution_count": 5,
   "metadata": {},
   "outputs": [
    {
     "name": "stdout",
     "output_type": "stream",
     "text": [
      "SequenceClassifierOutput(loss=None, logits=tensor([[-2.1431,  2.1121],\n",
      "        [ 3.3840, -2.8064]], grad_fn=<AddmmBackward0>), hidden_states=None, attentions=None)\n",
      "tensor([[-2.1431,  2.1121],\n",
      "        [ 3.3840, -2.8064]], grad_fn=<AddmmBackward0>)\n"
     ]
    }
   ],
   "source": [
    "from transformers import AutoModelForSequenceClassification\n",
    "\n",
    "checkpoint = \"distilbert-base-uncased-finetuned-sst-2-english\"\n",
    "model = AutoModelForSequenceClassification.from_pretrained(checkpoint)\n",
    "\n",
    "outputs = model(**inputs)\n",
    "print(outputs)\n",
    "\n",
    "print(outputs.logits)"
   ]
  },
  {
   "cell_type": "markdown",
   "metadata": {},
   "source": [
    "![Stage 3](image-3.png)"
   ]
  },
  {
   "cell_type": "code",
   "execution_count": 6,
   "metadata": {},
   "outputs": [
    {
     "name": "stdout",
     "output_type": "stream",
     "text": [
      "tensor([[0.0140, 0.9860],\n",
      "        [0.9980, 0.0020]], grad_fn=<SoftmaxBackward0>)\n"
     ]
    }
   ],
   "source": [
    "import torch\n",
    "\n",
    "predictions = torch.nn.functional.softmax(outputs.logits, dim = -1)\n",
    "print(predictions)"
   ]
  },
  {
   "cell_type": "code",
   "execution_count": 7,
   "metadata": {},
   "outputs": [
    {
     "data": {
      "text/plain": [
       "{0: 'NEGATIVE', 1: 'POSITIVE'}"
      ]
     },
     "execution_count": 7,
     "metadata": {},
     "output_type": "execute_result"
    }
   ],
   "source": [
    "model.config.id2label # First sentence positive, second sentence negative."
   ]
  },
  {
   "cell_type": "code",
   "execution_count": 8,
   "metadata": {},
   "outputs": [],
   "source": [
    "# You know 3 stage inside the pipeline now."
   ]
  },
  {
   "cell_type": "code",
   "execution_count": 9,
   "metadata": {},
   "outputs": [],
   "source": [
    "# Done !"
   ]
  }
 ],
 "metadata": {
  "kernelspec": {
   "display_name": "nlp",
   "language": "python",
   "name": "python3"
  },
  "language_info": {
   "codemirror_mode": {
    "name": "ipython",
    "version": 3
   },
   "file_extension": ".py",
   "mimetype": "text/x-python",
   "name": "python",
   "nbconvert_exporter": "python",
   "pygments_lexer": "ipython3",
   "version": "3.10.10"
  },
  "orig_nbformat": 4
 },
 "nbformat": 4,
 "nbformat_minor": 2
}
