{
  "nbformat": 4,
  "nbformat_minor": 0,
  "metadata": {
    "colab": {
      "provenance": []
    },
    "kernelspec": {
      "name": "python3",
      "display_name": "Python 3"
    },
    "language_info": {
      "name": "python"
    }
  },
  "cells": [
    {
      "cell_type": "code",
      "execution_count": 30,
      "metadata": {
        "id": "RbdM9R7XLm-E"
      },
      "outputs": [],
      "source": [
        "import numpy as np\n",
        "import pandas as pd"
      ]
    },
    {
      "cell_type": "markdown",
      "source": [
        "Dataset : https://github.com/fthbrmnby/turkish-text-data"
      ],
      "metadata": {
        "id": "wyznqJlMo5fC"
      }
    },
    {
      "cell_type": "code",
      "source": [
        "neg_df = pd.read_csv('reviews-neg.txt' , delimiter = '\\t' , names = ['Review'])\n",
        "neg_df['label'] = 1\n",
        "neg_df"
      ],
      "metadata": {
        "colab": {
          "base_uri": "https://localhost:8080/",
          "height": 424
        },
        "id": "Q2ZQMUPzLu1U",
        "outputId": "9c89b211-08f0-4fee-8e49-2a6f33c3af33"
      },
      "execution_count": 2,
      "outputs": [
        {
          "output_type": "execute_result",
          "data": {
            "text/plain": [
              "                                                  Review  label\n",
              "0            beklentimin altında bir ürün kaliteli değil      1\n",
              "1      3. kademe hız da motor titreme yapıyor.bu sebe...      1\n",
              "2      başlığı sabit durmuyor. arka koruma demiri üfl...      1\n",
              "3      ürün gayet kalitesiz öğrenci evinde aldığımız ...      1\n",
              "4      yuksek hizda kullanirken titredim yaptigi icin...      1\n",
              "...                                                  ...    ...\n",
              "14874  odada bu buhar makinası çalışırken uyumak kesi...      1\n",
              "14875  ürün gayet güzel ve sağlam.tek kusuru sesli ça...      1\n",
              "14876                          hepsiburadaya tesekkurler      1\n",
              "14877  çok ufak ve basit plastikten yapılmış. hiç kul...      1\n",
              "14878  fotoğrafta göründüğü gibi değil. i̇nce ve kesi...      1\n",
              "\n",
              "[14879 rows x 2 columns]"
            ],
            "text/html": [
              "\n",
              "  <div id=\"df-09f8d125-eba0-40b6-8b7f-0164aab3e475\">\n",
              "    <div class=\"colab-df-container\">\n",
              "      <div>\n",
              "<style scoped>\n",
              "    .dataframe tbody tr th:only-of-type {\n",
              "        vertical-align: middle;\n",
              "    }\n",
              "\n",
              "    .dataframe tbody tr th {\n",
              "        vertical-align: top;\n",
              "    }\n",
              "\n",
              "    .dataframe thead th {\n",
              "        text-align: right;\n",
              "    }\n",
              "</style>\n",
              "<table border=\"1\" class=\"dataframe\">\n",
              "  <thead>\n",
              "    <tr style=\"text-align: right;\">\n",
              "      <th></th>\n",
              "      <th>Review</th>\n",
              "      <th>label</th>\n",
              "    </tr>\n",
              "  </thead>\n",
              "  <tbody>\n",
              "    <tr>\n",
              "      <th>0</th>\n",
              "      <td>beklentimin altında bir ürün kaliteli değil</td>\n",
              "      <td>1</td>\n",
              "    </tr>\n",
              "    <tr>\n",
              "      <th>1</th>\n",
              "      <td>3. kademe hız da motor titreme yapıyor.bu sebe...</td>\n",
              "      <td>1</td>\n",
              "    </tr>\n",
              "    <tr>\n",
              "      <th>2</th>\n",
              "      <td>başlığı sabit durmuyor. arka koruma demiri üfl...</td>\n",
              "      <td>1</td>\n",
              "    </tr>\n",
              "    <tr>\n",
              "      <th>3</th>\n",
              "      <td>ürün gayet kalitesiz öğrenci evinde aldığımız ...</td>\n",
              "      <td>1</td>\n",
              "    </tr>\n",
              "    <tr>\n",
              "      <th>4</th>\n",
              "      <td>yuksek hizda kullanirken titredim yaptigi icin...</td>\n",
              "      <td>1</td>\n",
              "    </tr>\n",
              "    <tr>\n",
              "      <th>...</th>\n",
              "      <td>...</td>\n",
              "      <td>...</td>\n",
              "    </tr>\n",
              "    <tr>\n",
              "      <th>14874</th>\n",
              "      <td>odada bu buhar makinası çalışırken uyumak kesi...</td>\n",
              "      <td>1</td>\n",
              "    </tr>\n",
              "    <tr>\n",
              "      <th>14875</th>\n",
              "      <td>ürün gayet güzel ve sağlam.tek kusuru sesli ça...</td>\n",
              "      <td>1</td>\n",
              "    </tr>\n",
              "    <tr>\n",
              "      <th>14876</th>\n",
              "      <td>hepsiburadaya tesekkurler</td>\n",
              "      <td>1</td>\n",
              "    </tr>\n",
              "    <tr>\n",
              "      <th>14877</th>\n",
              "      <td>çok ufak ve basit plastikten yapılmış. hiç kul...</td>\n",
              "      <td>1</td>\n",
              "    </tr>\n",
              "    <tr>\n",
              "      <th>14878</th>\n",
              "      <td>fotoğrafta göründüğü gibi değil. i̇nce ve kesi...</td>\n",
              "      <td>1</td>\n",
              "    </tr>\n",
              "  </tbody>\n",
              "</table>\n",
              "<p>14879 rows × 2 columns</p>\n",
              "</div>\n",
              "      <button class=\"colab-df-convert\" onclick=\"convertToInteractive('df-09f8d125-eba0-40b6-8b7f-0164aab3e475')\"\n",
              "              title=\"Convert this dataframe to an interactive table.\"\n",
              "              style=\"display:none;\">\n",
              "        \n",
              "  <svg xmlns=\"http://www.w3.org/2000/svg\" height=\"24px\"viewBox=\"0 0 24 24\"\n",
              "       width=\"24px\">\n",
              "    <path d=\"M0 0h24v24H0V0z\" fill=\"none\"/>\n",
              "    <path d=\"M18.56 5.44l.94 2.06.94-2.06 2.06-.94-2.06-.94-.94-2.06-.94 2.06-2.06.94zm-11 1L8.5 8.5l.94-2.06 2.06-.94-2.06-.94L8.5 2.5l-.94 2.06-2.06.94zm10 10l.94 2.06.94-2.06 2.06-.94-2.06-.94-.94-2.06-.94 2.06-2.06.94z\"/><path d=\"M17.41 7.96l-1.37-1.37c-.4-.4-.92-.59-1.43-.59-.52 0-1.04.2-1.43.59L10.3 9.45l-7.72 7.72c-.78.78-.78 2.05 0 2.83L4 21.41c.39.39.9.59 1.41.59.51 0 1.02-.2 1.41-.59l7.78-7.78 2.81-2.81c.8-.78.8-2.07 0-2.86zM5.41 20L4 18.59l7.72-7.72 1.47 1.35L5.41 20z\"/>\n",
              "  </svg>\n",
              "      </button>\n",
              "      \n",
              "  <style>\n",
              "    .colab-df-container {\n",
              "      display:flex;\n",
              "      flex-wrap:wrap;\n",
              "      gap: 12px;\n",
              "    }\n",
              "\n",
              "    .colab-df-convert {\n",
              "      background-color: #E8F0FE;\n",
              "      border: none;\n",
              "      border-radius: 50%;\n",
              "      cursor: pointer;\n",
              "      display: none;\n",
              "      fill: #1967D2;\n",
              "      height: 32px;\n",
              "      padding: 0 0 0 0;\n",
              "      width: 32px;\n",
              "    }\n",
              "\n",
              "    .colab-df-convert:hover {\n",
              "      background-color: #E2EBFA;\n",
              "      box-shadow: 0px 1px 2px rgba(60, 64, 67, 0.3), 0px 1px 3px 1px rgba(60, 64, 67, 0.15);\n",
              "      fill: #174EA6;\n",
              "    }\n",
              "\n",
              "    [theme=dark] .colab-df-convert {\n",
              "      background-color: #3B4455;\n",
              "      fill: #D2E3FC;\n",
              "    }\n",
              "\n",
              "    [theme=dark] .colab-df-convert:hover {\n",
              "      background-color: #434B5C;\n",
              "      box-shadow: 0px 1px 3px 1px rgba(0, 0, 0, 0.15);\n",
              "      filter: drop-shadow(0px 1px 2px rgba(0, 0, 0, 0.3));\n",
              "      fill: #FFFFFF;\n",
              "    }\n",
              "  </style>\n",
              "\n",
              "      <script>\n",
              "        const buttonEl =\n",
              "          document.querySelector('#df-09f8d125-eba0-40b6-8b7f-0164aab3e475 button.colab-df-convert');\n",
              "        buttonEl.style.display =\n",
              "          google.colab.kernel.accessAllowed ? 'block' : 'none';\n",
              "\n",
              "        async function convertToInteractive(key) {\n",
              "          const element = document.querySelector('#df-09f8d125-eba0-40b6-8b7f-0164aab3e475');\n",
              "          const dataTable =\n",
              "            await google.colab.kernel.invokeFunction('convertToInteractive',\n",
              "                                                     [key], {});\n",
              "          if (!dataTable) return;\n",
              "\n",
              "          const docLinkHtml = 'Like what you see? Visit the ' +\n",
              "            '<a target=\"_blank\" href=https://colab.research.google.com/notebooks/data_table.ipynb>data table notebook</a>'\n",
              "            + ' to learn more about interactive tables.';\n",
              "          element.innerHTML = '';\n",
              "          dataTable['output_type'] = 'display_data';\n",
              "          await google.colab.output.renderOutput(dataTable, element);\n",
              "          const docLink = document.createElement('div');\n",
              "          docLink.innerHTML = docLinkHtml;\n",
              "          element.appendChild(docLink);\n",
              "        }\n",
              "      </script>\n",
              "    </div>\n",
              "  </div>\n",
              "  "
            ]
          },
          "metadata": {},
          "execution_count": 2
        }
      ]
    },
    {
      "cell_type": "code",
      "source": [
        "pos_df = pd.read_csv('reviews-pos.txt' , delimiter = '\\t' , names = ['Review'])\n",
        "pos_df['label'] = 0\n",
        "pos_df"
      ],
      "metadata": {
        "colab": {
          "base_uri": "https://localhost:8080/",
          "height": 424
        },
        "id": "rTkvw2OcM_3_",
        "outputId": "54821239-ee28-4c87-ceea-f97796dfefbf"
      },
      "execution_count": 3,
      "outputs": [
        {
          "output_type": "execute_result",
          "data": {
            "text/plain": [
              "                                                   Review  label\n",
              "0                             fena değil paraya göre iyi.      0\n",
              "1       ürün kaliteli ve çok kullanışlı kargo ya veril...      0\n",
              "2       fiyat-performans karşılaştırması yaptığınızda ...      0\n",
              "3                                       bu fiyata çok iyi      0\n",
              "4                    fiyat ve performans olarak gayet iyi      0\n",
              "...                                                   ...    ...\n",
              "219739  ürün çok hızlı ve hediye paketi içerisinde gel...      0\n",
              "219740  ürün yanında göndermiş olduğunuz hediye çok in...      0\n",
              "219741  hepsi burada tarihinde ilk defa yorum yapıyoru...      0\n",
              "219742  çok güzel bir ürün mağazaya ve hepsiburadaya ç...      0\n",
              "219743  bir erkek gözüyle söylüyorum burdan kankiiiiim...      0\n",
              "\n",
              "[219744 rows x 2 columns]"
            ],
            "text/html": [
              "\n",
              "  <div id=\"df-ea64939a-b754-4182-974f-78388c0fd7e3\">\n",
              "    <div class=\"colab-df-container\">\n",
              "      <div>\n",
              "<style scoped>\n",
              "    .dataframe tbody tr th:only-of-type {\n",
              "        vertical-align: middle;\n",
              "    }\n",
              "\n",
              "    .dataframe tbody tr th {\n",
              "        vertical-align: top;\n",
              "    }\n",
              "\n",
              "    .dataframe thead th {\n",
              "        text-align: right;\n",
              "    }\n",
              "</style>\n",
              "<table border=\"1\" class=\"dataframe\">\n",
              "  <thead>\n",
              "    <tr style=\"text-align: right;\">\n",
              "      <th></th>\n",
              "      <th>Review</th>\n",
              "      <th>label</th>\n",
              "    </tr>\n",
              "  </thead>\n",
              "  <tbody>\n",
              "    <tr>\n",
              "      <th>0</th>\n",
              "      <td>fena değil paraya göre iyi.</td>\n",
              "      <td>0</td>\n",
              "    </tr>\n",
              "    <tr>\n",
              "      <th>1</th>\n",
              "      <td>ürün kaliteli ve çok kullanışlı kargo ya veril...</td>\n",
              "      <td>0</td>\n",
              "    </tr>\n",
              "    <tr>\n",
              "      <th>2</th>\n",
              "      <td>fiyat-performans karşılaştırması yaptığınızda ...</td>\n",
              "      <td>0</td>\n",
              "    </tr>\n",
              "    <tr>\n",
              "      <th>3</th>\n",
              "      <td>bu fiyata çok iyi</td>\n",
              "      <td>0</td>\n",
              "    </tr>\n",
              "    <tr>\n",
              "      <th>4</th>\n",
              "      <td>fiyat ve performans olarak gayet iyi</td>\n",
              "      <td>0</td>\n",
              "    </tr>\n",
              "    <tr>\n",
              "      <th>...</th>\n",
              "      <td>...</td>\n",
              "      <td>...</td>\n",
              "    </tr>\n",
              "    <tr>\n",
              "      <th>219739</th>\n",
              "      <td>ürün çok hızlı ve hediye paketi içerisinde gel...</td>\n",
              "      <td>0</td>\n",
              "    </tr>\n",
              "    <tr>\n",
              "      <th>219740</th>\n",
              "      <td>ürün yanında göndermiş olduğunuz hediye çok in...</td>\n",
              "      <td>0</td>\n",
              "    </tr>\n",
              "    <tr>\n",
              "      <th>219741</th>\n",
              "      <td>hepsi burada tarihinde ilk defa yorum yapıyoru...</td>\n",
              "      <td>0</td>\n",
              "    </tr>\n",
              "    <tr>\n",
              "      <th>219742</th>\n",
              "      <td>çok güzel bir ürün mağazaya ve hepsiburadaya ç...</td>\n",
              "      <td>0</td>\n",
              "    </tr>\n",
              "    <tr>\n",
              "      <th>219743</th>\n",
              "      <td>bir erkek gözüyle söylüyorum burdan kankiiiiim...</td>\n",
              "      <td>0</td>\n",
              "    </tr>\n",
              "  </tbody>\n",
              "</table>\n",
              "<p>219744 rows × 2 columns</p>\n",
              "</div>\n",
              "      <button class=\"colab-df-convert\" onclick=\"convertToInteractive('df-ea64939a-b754-4182-974f-78388c0fd7e3')\"\n",
              "              title=\"Convert this dataframe to an interactive table.\"\n",
              "              style=\"display:none;\">\n",
              "        \n",
              "  <svg xmlns=\"http://www.w3.org/2000/svg\" height=\"24px\"viewBox=\"0 0 24 24\"\n",
              "       width=\"24px\">\n",
              "    <path d=\"M0 0h24v24H0V0z\" fill=\"none\"/>\n",
              "    <path d=\"M18.56 5.44l.94 2.06.94-2.06 2.06-.94-2.06-.94-.94-2.06-.94 2.06-2.06.94zm-11 1L8.5 8.5l.94-2.06 2.06-.94-2.06-.94L8.5 2.5l-.94 2.06-2.06.94zm10 10l.94 2.06.94-2.06 2.06-.94-2.06-.94-.94-2.06-.94 2.06-2.06.94z\"/><path d=\"M17.41 7.96l-1.37-1.37c-.4-.4-.92-.59-1.43-.59-.52 0-1.04.2-1.43.59L10.3 9.45l-7.72 7.72c-.78.78-.78 2.05 0 2.83L4 21.41c.39.39.9.59 1.41.59.51 0 1.02-.2 1.41-.59l7.78-7.78 2.81-2.81c.8-.78.8-2.07 0-2.86zM5.41 20L4 18.59l7.72-7.72 1.47 1.35L5.41 20z\"/>\n",
              "  </svg>\n",
              "      </button>\n",
              "      \n",
              "  <style>\n",
              "    .colab-df-container {\n",
              "      display:flex;\n",
              "      flex-wrap:wrap;\n",
              "      gap: 12px;\n",
              "    }\n",
              "\n",
              "    .colab-df-convert {\n",
              "      background-color: #E8F0FE;\n",
              "      border: none;\n",
              "      border-radius: 50%;\n",
              "      cursor: pointer;\n",
              "      display: none;\n",
              "      fill: #1967D2;\n",
              "      height: 32px;\n",
              "      padding: 0 0 0 0;\n",
              "      width: 32px;\n",
              "    }\n",
              "\n",
              "    .colab-df-convert:hover {\n",
              "      background-color: #E2EBFA;\n",
              "      box-shadow: 0px 1px 2px rgba(60, 64, 67, 0.3), 0px 1px 3px 1px rgba(60, 64, 67, 0.15);\n",
              "      fill: #174EA6;\n",
              "    }\n",
              "\n",
              "    [theme=dark] .colab-df-convert {\n",
              "      background-color: #3B4455;\n",
              "      fill: #D2E3FC;\n",
              "    }\n",
              "\n",
              "    [theme=dark] .colab-df-convert:hover {\n",
              "      background-color: #434B5C;\n",
              "      box-shadow: 0px 1px 3px 1px rgba(0, 0, 0, 0.15);\n",
              "      filter: drop-shadow(0px 1px 2px rgba(0, 0, 0, 0.3));\n",
              "      fill: #FFFFFF;\n",
              "    }\n",
              "  </style>\n",
              "\n",
              "      <script>\n",
              "        const buttonEl =\n",
              "          document.querySelector('#df-ea64939a-b754-4182-974f-78388c0fd7e3 button.colab-df-convert');\n",
              "        buttonEl.style.display =\n",
              "          google.colab.kernel.accessAllowed ? 'block' : 'none';\n",
              "\n",
              "        async function convertToInteractive(key) {\n",
              "          const element = document.querySelector('#df-ea64939a-b754-4182-974f-78388c0fd7e3');\n",
              "          const dataTable =\n",
              "            await google.colab.kernel.invokeFunction('convertToInteractive',\n",
              "                                                     [key], {});\n",
              "          if (!dataTable) return;\n",
              "\n",
              "          const docLinkHtml = 'Like what you see? Visit the ' +\n",
              "            '<a target=\"_blank\" href=https://colab.research.google.com/notebooks/data_table.ipynb>data table notebook</a>'\n",
              "            + ' to learn more about interactive tables.';\n",
              "          element.innerHTML = '';\n",
              "          dataTable['output_type'] = 'display_data';\n",
              "          await google.colab.output.renderOutput(dataTable, element);\n",
              "          const docLink = document.createElement('div');\n",
              "          docLink.innerHTML = docLinkHtml;\n",
              "          element.appendChild(docLink);\n",
              "        }\n",
              "      </script>\n",
              "    </div>\n",
              "  </div>\n",
              "  "
            ]
          },
          "metadata": {},
          "execution_count": 3
        }
      ]
    },
    {
      "cell_type": "code",
      "source": [
        "df = pd.concat([pos_df,neg_df])\n",
        "df = df.sample(frac = 1).reset_index(drop = True)\n",
        "df"
      ],
      "metadata": {
        "colab": {
          "base_uri": "https://localhost:8080/",
          "height": 424
        },
        "id": "jN_CiV4FRNdc",
        "outputId": "9d05c5d4-b5c0-434d-c4ba-0822dc866ed4"
      },
      "execution_count": 4,
      "outputs": [
        {
          "output_type": "execute_result",
          "data": {
            "text/plain": [
              "                                                   Review  label\n",
              "0                                 çok güzel bir kitap idi      0\n",
              "1       i̇çiniz rahat ederek alabilirsiniz gerçekten i...      0\n",
              "2       belirtilen tarihten daha erken teslim aldım ür...      0\n",
              "3       ürün dedikleri gibi elime geldi 2016/8. ay ger...      0\n",
              "4       ürün istediğim gibi geldi. gayet iyi bir şekil...      0\n",
              "...                                                   ...    ...\n",
              "234618  fiyatı sizi yanıltmasın gerçekten kaliteli bir...      0\n",
              "234619  ütü çok karizmatik, su haznesi çok güçlü, hızl...      0\n",
              "234620  çok memnun kaldım  hem kaliteli hem uygun fiya...      0\n",
              "234621  kokusu çok harika ve kalıcı. kokusu yaklaşık 2...      0\n",
              "234622  kesinlikle çok kaliteli ve pratik bir ürün . m...      0\n",
              "\n",
              "[234623 rows x 2 columns]"
            ],
            "text/html": [
              "\n",
              "  <div id=\"df-d78ea991-9a68-45b4-a362-4d70ca8121b3\">\n",
              "    <div class=\"colab-df-container\">\n",
              "      <div>\n",
              "<style scoped>\n",
              "    .dataframe tbody tr th:only-of-type {\n",
              "        vertical-align: middle;\n",
              "    }\n",
              "\n",
              "    .dataframe tbody tr th {\n",
              "        vertical-align: top;\n",
              "    }\n",
              "\n",
              "    .dataframe thead th {\n",
              "        text-align: right;\n",
              "    }\n",
              "</style>\n",
              "<table border=\"1\" class=\"dataframe\">\n",
              "  <thead>\n",
              "    <tr style=\"text-align: right;\">\n",
              "      <th></th>\n",
              "      <th>Review</th>\n",
              "      <th>label</th>\n",
              "    </tr>\n",
              "  </thead>\n",
              "  <tbody>\n",
              "    <tr>\n",
              "      <th>0</th>\n",
              "      <td>çok güzel bir kitap idi</td>\n",
              "      <td>0</td>\n",
              "    </tr>\n",
              "    <tr>\n",
              "      <th>1</th>\n",
              "      <td>i̇çiniz rahat ederek alabilirsiniz gerçekten i...</td>\n",
              "      <td>0</td>\n",
              "    </tr>\n",
              "    <tr>\n",
              "      <th>2</th>\n",
              "      <td>belirtilen tarihten daha erken teslim aldım ür...</td>\n",
              "      <td>0</td>\n",
              "    </tr>\n",
              "    <tr>\n",
              "      <th>3</th>\n",
              "      <td>ürün dedikleri gibi elime geldi 2016/8. ay ger...</td>\n",
              "      <td>0</td>\n",
              "    </tr>\n",
              "    <tr>\n",
              "      <th>4</th>\n",
              "      <td>ürün istediğim gibi geldi. gayet iyi bir şekil...</td>\n",
              "      <td>0</td>\n",
              "    </tr>\n",
              "    <tr>\n",
              "      <th>...</th>\n",
              "      <td>...</td>\n",
              "      <td>...</td>\n",
              "    </tr>\n",
              "    <tr>\n",
              "      <th>234618</th>\n",
              "      <td>fiyatı sizi yanıltmasın gerçekten kaliteli bir...</td>\n",
              "      <td>0</td>\n",
              "    </tr>\n",
              "    <tr>\n",
              "      <th>234619</th>\n",
              "      <td>ütü çok karizmatik, su haznesi çok güçlü, hızl...</td>\n",
              "      <td>0</td>\n",
              "    </tr>\n",
              "    <tr>\n",
              "      <th>234620</th>\n",
              "      <td>çok memnun kaldım  hem kaliteli hem uygun fiya...</td>\n",
              "      <td>0</td>\n",
              "    </tr>\n",
              "    <tr>\n",
              "      <th>234621</th>\n",
              "      <td>kokusu çok harika ve kalıcı. kokusu yaklaşık 2...</td>\n",
              "      <td>0</td>\n",
              "    </tr>\n",
              "    <tr>\n",
              "      <th>234622</th>\n",
              "      <td>kesinlikle çok kaliteli ve pratik bir ürün . m...</td>\n",
              "      <td>0</td>\n",
              "    </tr>\n",
              "  </tbody>\n",
              "</table>\n",
              "<p>234623 rows × 2 columns</p>\n",
              "</div>\n",
              "      <button class=\"colab-df-convert\" onclick=\"convertToInteractive('df-d78ea991-9a68-45b4-a362-4d70ca8121b3')\"\n",
              "              title=\"Convert this dataframe to an interactive table.\"\n",
              "              style=\"display:none;\">\n",
              "        \n",
              "  <svg xmlns=\"http://www.w3.org/2000/svg\" height=\"24px\"viewBox=\"0 0 24 24\"\n",
              "       width=\"24px\">\n",
              "    <path d=\"M0 0h24v24H0V0z\" fill=\"none\"/>\n",
              "    <path d=\"M18.56 5.44l.94 2.06.94-2.06 2.06-.94-2.06-.94-.94-2.06-.94 2.06-2.06.94zm-11 1L8.5 8.5l.94-2.06 2.06-.94-2.06-.94L8.5 2.5l-.94 2.06-2.06.94zm10 10l.94 2.06.94-2.06 2.06-.94-2.06-.94-.94-2.06-.94 2.06-2.06.94z\"/><path d=\"M17.41 7.96l-1.37-1.37c-.4-.4-.92-.59-1.43-.59-.52 0-1.04.2-1.43.59L10.3 9.45l-7.72 7.72c-.78.78-.78 2.05 0 2.83L4 21.41c.39.39.9.59 1.41.59.51 0 1.02-.2 1.41-.59l7.78-7.78 2.81-2.81c.8-.78.8-2.07 0-2.86zM5.41 20L4 18.59l7.72-7.72 1.47 1.35L5.41 20z\"/>\n",
              "  </svg>\n",
              "      </button>\n",
              "      \n",
              "  <style>\n",
              "    .colab-df-container {\n",
              "      display:flex;\n",
              "      flex-wrap:wrap;\n",
              "      gap: 12px;\n",
              "    }\n",
              "\n",
              "    .colab-df-convert {\n",
              "      background-color: #E8F0FE;\n",
              "      border: none;\n",
              "      border-radius: 50%;\n",
              "      cursor: pointer;\n",
              "      display: none;\n",
              "      fill: #1967D2;\n",
              "      height: 32px;\n",
              "      padding: 0 0 0 0;\n",
              "      width: 32px;\n",
              "    }\n",
              "\n",
              "    .colab-df-convert:hover {\n",
              "      background-color: #E2EBFA;\n",
              "      box-shadow: 0px 1px 2px rgba(60, 64, 67, 0.3), 0px 1px 3px 1px rgba(60, 64, 67, 0.15);\n",
              "      fill: #174EA6;\n",
              "    }\n",
              "\n",
              "    [theme=dark] .colab-df-convert {\n",
              "      background-color: #3B4455;\n",
              "      fill: #D2E3FC;\n",
              "    }\n",
              "\n",
              "    [theme=dark] .colab-df-convert:hover {\n",
              "      background-color: #434B5C;\n",
              "      box-shadow: 0px 1px 3px 1px rgba(0, 0, 0, 0.15);\n",
              "      filter: drop-shadow(0px 1px 2px rgba(0, 0, 0, 0.3));\n",
              "      fill: #FFFFFF;\n",
              "    }\n",
              "  </style>\n",
              "\n",
              "      <script>\n",
              "        const buttonEl =\n",
              "          document.querySelector('#df-d78ea991-9a68-45b4-a362-4d70ca8121b3 button.colab-df-convert');\n",
              "        buttonEl.style.display =\n",
              "          google.colab.kernel.accessAllowed ? 'block' : 'none';\n",
              "\n",
              "        async function convertToInteractive(key) {\n",
              "          const element = document.querySelector('#df-d78ea991-9a68-45b4-a362-4d70ca8121b3');\n",
              "          const dataTable =\n",
              "            await google.colab.kernel.invokeFunction('convertToInteractive',\n",
              "                                                     [key], {});\n",
              "          if (!dataTable) return;\n",
              "\n",
              "          const docLinkHtml = 'Like what you see? Visit the ' +\n",
              "            '<a target=\"_blank\" href=https://colab.research.google.com/notebooks/data_table.ipynb>data table notebook</a>'\n",
              "            + ' to learn more about interactive tables.';\n",
              "          element.innerHTML = '';\n",
              "          dataTable['output_type'] = 'display_data';\n",
              "          await google.colab.output.renderOutput(dataTable, element);\n",
              "          const docLink = document.createElement('div');\n",
              "          docLink.innerHTML = docLinkHtml;\n",
              "          element.appendChild(docLink);\n",
              "        }\n",
              "      </script>\n",
              "    </div>\n",
              "  </div>\n",
              "  "
            ]
          },
          "metadata": {},
          "execution_count": 4
        }
      ]
    },
    {
      "cell_type": "code",
      "source": [
        "df.label.value_counts()"
      ],
      "metadata": {
        "colab": {
          "base_uri": "https://localhost:8080/"
        },
        "id": "gNwc6UDdRZw_",
        "outputId": "d168c284-7e64-478c-a979-7d3fbcb7f7a5"
      },
      "execution_count": 5,
      "outputs": [
        {
          "output_type": "execute_result",
          "data": {
            "text/plain": [
              "0    219744\n",
              "1     14879\n",
              "Name: label, dtype: int64"
            ]
          },
          "metadata": {},
          "execution_count": 5
        }
      ]
    },
    {
      "cell_type": "code",
      "source": [
        "import string\n",
        "import re\n",
        "import nltk\n",
        "from nltk.corpus import stopwords"
      ],
      "metadata": {
        "id": "g4iT1aRXScDq"
      },
      "execution_count": 6,
      "outputs": []
    },
    {
      "cell_type": "code",
      "source": [
        "# import nltk\n",
        "nltk.download('stopwords')"
      ],
      "metadata": {
        "colab": {
          "base_uri": "https://localhost:8080/"
        },
        "id": "kVP7RfANTOs2",
        "outputId": "8604ce4b-36ad-49e8-ee78-4b13e09c947c"
      },
      "execution_count": 7,
      "outputs": [
        {
          "output_type": "stream",
          "name": "stderr",
          "text": [
            "[nltk_data] Downloading package stopwords to /root/nltk_data...\n",
            "[nltk_data]   Package stopwords is already up-to-date!\n"
          ]
        },
        {
          "output_type": "execute_result",
          "data": {
            "text/plain": [
              "True"
            ]
          },
          "metadata": {},
          "execution_count": 7
        }
      ]
    },
    {
      "cell_type": "code",
      "source": [
        "puncts = string.punctuation\n",
        "stopwords = stopwords.words('turkish')"
      ],
      "metadata": {
        "id": "8VzH3SgAS92H"
      },
      "execution_count": 8,
      "outputs": []
    },
    {
      "cell_type": "code",
      "source": [
        "puncts"
      ],
      "metadata": {
        "colab": {
          "base_uri": "https://localhost:8080/",
          "height": 35
        },
        "id": "Qi3M7WbPVSqN",
        "outputId": "28d72253-c0e4-46e2-ecfc-a231e55862ee"
      },
      "execution_count": 9,
      "outputs": [
        {
          "output_type": "execute_result",
          "data": {
            "text/plain": [
              "'!\"#$%&\\'()*+,-./:;<=>?@[\\\\]^_`{|}~'"
            ],
            "application/vnd.google.colaboratory.intrinsic+json": {
              "type": "string"
            }
          },
          "metadata": {},
          "execution_count": 9
        }
      ]
    },
    {
      "cell_type": "code",
      "source": [
        "for sentence in df['Review'].head():\n",
        "  print(sentence +  '\\n----------')\n",
        "\n",
        "  temp = ''\n",
        "  for word in sentence.split():\n",
        "    if word not in stopwords and not word.isnumeric():\n",
        "      temp += word + ' '\n",
        "  print(temp + '\\n***************\\n')"
      ],
      "metadata": {
        "colab": {
          "base_uri": "https://localhost:8080/"
        },
        "id": "b98kOeNiTGxA",
        "outputId": "a9a4a031-df1f-41ad-854f-41a67626209b"
      },
      "execution_count": 10,
      "outputs": [
        {
          "output_type": "stream",
          "name": "stdout",
          "text": [
            "çok güzel bir kitap idi\n",
            "----------\n",
            "güzel bir kitap idi \n",
            "***************\n",
            "\n",
            "i̇çiniz rahat ederek alabilirsiniz gerçekten inanılmaz performans.\n",
            "----------\n",
            "i̇çiniz rahat ederek alabilirsiniz gerçekten inanılmaz performans. \n",
            "***************\n",
            "\n",
            "belirtilen tarihten daha erken teslim aldım ürünü. \n",
            "----------\n",
            "belirtilen tarihten erken teslim aldım ürünü. \n",
            "***************\n",
            "\n",
            "ürün dedikleri gibi elime geldi 2016/8. ay gercekten mukemmel fermons ta bi ürün araç sürerken tutuşuyla size keyfi yaşatıo lastik deki yumuşaklığı oturdugunuz yerden hissedebiliyorsunuz piyasadan da gayet uygun aynı lastiği 165 170 e satıolar alın pişman olmazsınız emeği  gwçen herkeze tesekkurler..\n",
            "----------\n",
            "ürün dedikleri elime geldi 2016/8. ay gercekten mukemmel fermons ta bi ürün araç sürerken tutuşuyla size keyfi yaşatıo lastik deki yumuşaklığı oturdugunuz yerden hissedebiliyorsunuz piyasadan gayet uygun aynı lastiği e satıolar alın pişman olmazsınız emeği gwçen herkeze tesekkurler.. \n",
            "***************\n",
            "\n",
            "ürün istediğim gibi geldi. gayet iyi bir şekilde sarılmış ve hiç hasar yoktu. üründen çok memnunum.\n",
            "----------\n",
            "ürün istediğim geldi. gayet iyi bir şekilde sarılmış hasar yoktu. üründen memnunum. \n",
            "***************\n",
            "\n"
          ]
        }
      ]
    },
    {
      "cell_type": "code",
      "source": [
        "for sentence in df['Review'].head():\n",
        "  print(sentence +  '\\n----------')\n",
        "\n",
        "  temp = ''\n",
        "  for word in sentence:\n",
        "    if word not in puncts:\n",
        "      temp += word\n",
        "  print(temp + '\\n***************\\n')"
      ],
      "metadata": {
        "colab": {
          "base_uri": "https://localhost:8080/"
        },
        "id": "g0maPgD7UIoE",
        "outputId": "1a830544-1292-43b4-de39-72073343f19c"
      },
      "execution_count": 11,
      "outputs": [
        {
          "output_type": "stream",
          "name": "stdout",
          "text": [
            "çok güzel bir kitap idi\n",
            "----------\n",
            "çok güzel bir kitap idi\n",
            "***************\n",
            "\n",
            "i̇çiniz rahat ederek alabilirsiniz gerçekten inanılmaz performans.\n",
            "----------\n",
            "i̇çiniz rahat ederek alabilirsiniz gerçekten inanılmaz performans\n",
            "***************\n",
            "\n",
            "belirtilen tarihten daha erken teslim aldım ürünü. \n",
            "----------\n",
            "belirtilen tarihten daha erken teslim aldım ürünü \n",
            "***************\n",
            "\n",
            "ürün dedikleri gibi elime geldi 2016/8. ay gercekten mukemmel fermons ta bi ürün araç sürerken tutuşuyla size keyfi yaşatıo lastik deki yumuşaklığı oturdugunuz yerden hissedebiliyorsunuz piyasadan da gayet uygun aynı lastiği 165 170 e satıolar alın pişman olmazsınız emeği  gwçen herkeze tesekkurler..\n",
            "----------\n",
            "ürün dedikleri gibi elime geldi 20168 ay gercekten mukemmel fermons ta bi ürün araç sürerken tutuşuyla size keyfi yaşatıo lastik deki yumuşaklığı oturdugunuz yerden hissedebiliyorsunuz piyasadan da gayet uygun aynı lastiği 165 170 e satıolar alın pişman olmazsınız emeği  gwçen herkeze tesekkurler\n",
            "***************\n",
            "\n",
            "ürün istediğim gibi geldi. gayet iyi bir şekilde sarılmış ve hiç hasar yoktu. üründen çok memnunum.\n",
            "----------\n",
            "ürün istediğim gibi geldi gayet iyi bir şekilde sarılmış ve hiç hasar yoktu üründen çok memnunum\n",
            "***************\n",
            "\n"
          ]
        }
      ]
    },
    {
      "cell_type": "code",
      "source": [
        "df['Review'].head()"
      ],
      "metadata": {
        "colab": {
          "base_uri": "https://localhost:8080/"
        },
        "id": "FTW9ZE65XCXD",
        "outputId": "177562e2-6817-4da5-87e5-8c277d1de01f"
      },
      "execution_count": 12,
      "outputs": [
        {
          "output_type": "execute_result",
          "data": {
            "text/plain": [
              "0                              çok güzel bir kitap idi\n",
              "1    i̇çiniz rahat ederek alabilirsiniz gerçekten i...\n",
              "2    belirtilen tarihten daha erken teslim aldım ür...\n",
              "3    ürün dedikleri gibi elime geldi 2016/8. ay ger...\n",
              "4    ürün istediğim gibi geldi. gayet iyi bir şekil...\n",
              "Name: Review, dtype: object"
            ]
          },
          "metadata": {},
          "execution_count": 12
        }
      ]
    },
    {
      "cell_type": "code",
      "source": [
        "def cleaning(sentence):\n",
        "    sentence = sentence.replace('.' , '')\n",
        "    #1. Remove Puncs and number\n",
        "    words_without_punc = [w for w in sentence.split() if w.isalpha()]\n",
        "    \n",
        "    #2. Removing Stopwords\n",
        "    words_without_all = [t for t in words_without_punc if t not in stopwords]\n",
        "    \n",
        "    #joining\n",
        "    return ' '.join(words_without_all)\n"
      ],
      "metadata": {
        "id": "Z5IFvAoWVM2Z"
      },
      "execution_count": 13,
      "outputs": []
    },
    {
      "cell_type": "code",
      "source": [
        "df['Review'] = df['Review'].apply(cleaning)"
      ],
      "metadata": {
        "id": "9VeYQ_0YdJzr"
      },
      "execution_count": 14,
      "outputs": []
    },
    {
      "cell_type": "code",
      "source": [
        "df['Review'][10000]"
      ],
      "metadata": {
        "colab": {
          "base_uri": "https://localhost:8080/",
          "height": 35
        },
        "id": "S19VObJ4dFtp",
        "outputId": "d0ed7187-d843-4050-8d2a-66ab9158ac7b"
      },
      "execution_count": 15,
      "outputs": [
        {
          "output_type": "execute_result",
          "data": {
            "text/plain": [
              "'olumsuzluklari'"
            ],
            "application/vnd.google.colaboratory.intrinsic+json": {
              "type": "string"
            }
          },
          "metadata": {},
          "execution_count": 15
        }
      ]
    },
    {
      "cell_type": "markdown",
      "source": [
        "## Train | Test Split"
      ],
      "metadata": {
        "id": "XeeGYjMNdyTY"
      }
    },
    {
      "cell_type": "code",
      "source": [
        "from sklearn.model_selection import train_test_split"
      ],
      "metadata": {
        "id": "oMSXAsw_b8y1"
      },
      "execution_count": 16,
      "outputs": []
    },
    {
      "cell_type": "code",
      "source": [
        "X = df['Review'].values    # X = df['Review'].values.astype('U')\n",
        "y = df['label'].values     # y = df['label'].values.astype('U')\n",
        "\n",
        "X_train , X_test , y_train , y_test = train_test_split(X,y , test_size = 0.1 , random_state = 53)\n",
        "\n",
        "print(X_train.shape)\n",
        "print(X_test.shape)\n",
        "print(y_test.shape)"
      ],
      "metadata": {
        "colab": {
          "base_uri": "https://localhost:8080/"
        },
        "id": "WCqYCqLCd2Wl",
        "outputId": "000eec0a-73e2-451d-c868-65077551eb9b"
      },
      "execution_count": 17,
      "outputs": [
        {
          "output_type": "stream",
          "name": "stdout",
          "text": [
            "(211160,)\n",
            "(23463,)\n",
            "(23463,)\n"
          ]
        }
      ]
    },
    {
      "cell_type": "markdown",
      "source": [
        "## Count Vectorization"
      ],
      "metadata": {
        "id": "F8Sf9yJif4qJ"
      }
    },
    {
      "cell_type": "code",
      "source": [
        "from sklearn.feature_extraction.text import CountVectorizer"
      ],
      "metadata": {
        "id": "J4rMVOAcdUtd"
      },
      "execution_count": 18,
      "outputs": []
    },
    {
      "cell_type": "code",
      "source": [
        "cnt_vect = CountVectorizer()\n",
        "X_train_cnt = cnt_vect.fit_transform(X_train)\n",
        "X_test_cnt = cnt_vect.transform(X_test)"
      ],
      "metadata": {
        "id": "4ZpJWt02fExM"
      },
      "execution_count": 19,
      "outputs": []
    },
    {
      "cell_type": "code",
      "source": [
        "print(X_train_cnt.shape)"
      ],
      "metadata": {
        "colab": {
          "base_uri": "https://localhost:8080/"
        },
        "id": "Ot3n3iQ6fXu0",
        "outputId": "ad7b3e71-cb6d-4f47-b783-b3feeaf7358c"
      },
      "execution_count": 20,
      "outputs": [
        {
          "output_type": "stream",
          "name": "stdout",
          "text": [
            "(211160, 239600)\n"
          ]
        }
      ]
    },
    {
      "cell_type": "markdown",
      "source": [
        "## TF-IDF Vectorization"
      ],
      "metadata": {
        "id": "gXDE18bAf6lE"
      }
    },
    {
      "cell_type": "code",
      "source": [
        "from sklearn.feature_extraction.text import TfidfTransformer"
      ],
      "metadata": {
        "id": "QHiRcrNdfZk-"
      },
      "execution_count": 21,
      "outputs": []
    },
    {
      "cell_type": "code",
      "source": [
        "tfidf_transformer = TfidfTransformer()\n",
        "X_train_tfidf = tfidf_transformer.fit_transform(X_train_cnt)\n",
        "X_test_tfidf = tfidf_transformer.transform(X_test_cnt)"
      ],
      "metadata": {
        "id": "AyBHhTKef_Zs"
      },
      "execution_count": 22,
      "outputs": []
    },
    {
      "cell_type": "markdown",
      "source": [
        "# Modelling"
      ],
      "metadata": {
        "id": "jCqahijyg3sK"
      }
    },
    {
      "cell_type": "markdown",
      "source": [
        "## Naive Bayes"
      ],
      "metadata": {
        "id": "AGCJehH1g5a1"
      }
    },
    {
      "cell_type": "code",
      "source": [
        "from sklearn.naive_bayes import MultinomialNB"
      ],
      "metadata": {
        "id": "1YDDICBagWY8"
      },
      "execution_count": 24,
      "outputs": []
    },
    {
      "cell_type": "code",
      "source": [
        "from sklearn.utils import class_weight\n",
        "\n",
        "classes_weights = class_weight.compute_sample_weight(class_weight = 'balanced', y = y_train) # We need to use class_weight. Because too imbalance data.\n",
        "pd.Series(classes_weights)"
      ],
      "metadata": {
        "colab": {
          "base_uri": "https://localhost:8080/"
        },
        "id": "Q4fjuvO0jIra",
        "outputId": "d384ae28-3d42-46ff-e8e5-bdc1cf2325aa"
      },
      "execution_count": 32,
      "outputs": [
        {
          "output_type": "execute_result",
          "data": {
            "text/plain": [
              "0         0.533836\n",
              "1         0.533836\n",
              "2         7.888524\n",
              "3         7.888524\n",
              "4         0.533836\n",
              "            ...   \n",
              "211155    0.533836\n",
              "211156    0.533836\n",
              "211157    7.888524\n",
              "211158    0.533836\n",
              "211159    0.533836\n",
              "Length: 211160, dtype: float64"
            ]
          },
          "metadata": {},
          "execution_count": 32
        }
      ]
    },
    {
      "cell_type": "code",
      "source": [
        "clf = MultinomialNB().fit(X_train_tfidf , y_train , sample_weight = classes_weights)"
      ],
      "metadata": {
        "id": "TTmZqhzng9jC"
      },
      "execution_count": 33,
      "outputs": []
    },
    {
      "cell_type": "markdown",
      "source": [
        "### Model Evaluation"
      ],
      "metadata": {
        "id": "OZ4YiIMohpi-"
      }
    },
    {
      "cell_type": "code",
      "source": [
        "y_pred = clf.predict(X_test_tfidf)"
      ],
      "metadata": {
        "id": "W385R9HQhLfb"
      },
      "execution_count": 34,
      "outputs": []
    },
    {
      "cell_type": "code",
      "source": [
        "from sklearn.metrics import classification_report , confusion_matrix"
      ],
      "metadata": {
        "id": "o__4QAH5h3g3"
      },
      "execution_count": 35,
      "outputs": []
    },
    {
      "cell_type": "code",
      "source": [
        "print(confusion_matrix(y_test, y_pred))\n",
        "print(classification_report(y_test , y_pred))"
      ],
      "metadata": {
        "colab": {
          "base_uri": "https://localhost:8080/"
        },
        "id": "--2NYcqZh9v6",
        "outputId": "b7cbdf98-d227-43b4-dc24-05559f48320e"
      },
      "execution_count": 36,
      "outputs": [
        {
          "output_type": "stream",
          "name": "stdout",
          "text": [
            "[[19099  2869]\n",
            " [  317  1178]]\n",
            "              precision    recall  f1-score   support\n",
            "\n",
            "           0       0.98      0.87      0.92     21968\n",
            "           1       0.29      0.79      0.43      1495\n",
            "\n",
            "    accuracy                           0.86     23463\n",
            "   macro avg       0.64      0.83      0.67     23463\n",
            "weighted avg       0.94      0.86      0.89     23463\n",
            "\n"
          ]
        }
      ]
    },
    {
      "cell_type": "code",
      "source": [
        "# Not perfect, but done for now."
      ],
      "metadata": {
        "id": "mraUHCheiEEG"
      },
      "execution_count": null,
      "outputs": []
    }
  ]
}